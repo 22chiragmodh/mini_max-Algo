{
 "cells": [
  {
   "cell_type": "code",
   "execution_count": 1,
   "id": "7fb8884b",
   "metadata": {},
   "outputs": [
    {
     "name": "stdout",
     "output_type": "stream",
     "text": [
      "The optimal value is : 8\n"
     ]
    }
   ],
   "source": [
    "MAX, MIN = 1000, -1000\n",
    " \n",
    "def alphabeta(depth, nodeIndex, maxPlayer,\n",
    "            values, alpha, beta):\n",
    "  \n",
    "  \n",
    "    if depth == 5:\n",
    "        return values[nodeIndex]\n",
    " \n",
    "    if maxPlayer:\n",
    "      \n",
    "        best = MIN\n",
    " \n",
    "        # Recur for left and right children\n",
    "        for i in range(0, 2):\n",
    "             \n",
    "            val = alphabeta(depth + 1, nodeIndex * 2 + i,\n",
    "                          False, values, alpha, beta)\n",
    "            best = max(best, val)\n",
    "            alpha = max(alpha, best)\n",
    " \n",
    "            # Alpha Beta Pruning\n",
    "            if beta <= alpha:\n",
    "                break\n",
    "          \n",
    "        return best\n",
    "      \n",
    "    else:\n",
    "        best = MAX\n",
    " \n",
    "       \n",
    "        for i in range(0, 2):\n",
    "          \n",
    "            val = alphabeta(depth + 1, nodeIndex * 2 + i,\n",
    "                            True, values, alpha, beta)\n",
    "            best = min(best, val)\n",
    "            beta = min(beta, best)\n",
    " \n",
    "           \n",
    "            if beta <= alpha:\n",
    "                break\n",
    "          \n",
    "        return best\n",
    "      \n",
    "\n",
    "if __name__ == \"__main__\":\n",
    "  \n",
    "    values = [3,-1,4,0,6,8,9,3,5,-4,-1,0,6,9,8,-2,-5,8,-3,4,6,8,9,3,5,-4,-1,0,6,7,-1,-2] \n",
    "    print(\"The optimal value is :\", alphabeta(0, 0, True, values, MIN, MAX))\n",
    "     "
   ]
  },
  {
   "cell_type": "code",
   "execution_count": 4,
   "id": "5f424894",
   "metadata": {},
   "outputs": [
    {
     "name": "stdout",
     "output_type": "stream",
     "text": [
      "The optimal value is : 5\n"
     ]
    }
   ],
   "source": [
    "MAX, MIN = 1000, -1000\n",
    " \n",
    "def alphabeta(depth, nodeIndex, maxPlayer,\n",
    "            values, alpha, beta):\n",
    "  \n",
    "  \n",
    "    if depth == 3:\n",
    "        return values[nodeIndex]\n",
    " \n",
    "    if maxPlayer:\n",
    "      \n",
    "        best = MIN\n",
    " \n",
    "        # Recur for left and right children\n",
    "        for i in range(0, 2):\n",
    "             \n",
    "            val = alphabeta(depth + 1, nodeIndex * 2 + i,\n",
    "                          False, values, alpha, beta)\n",
    "            best = max(best, val)\n",
    "            alpha = max(alpha, best)\n",
    " \n",
    "            # Alpha Beta Pruning\n",
    "            if beta <= alpha:\n",
    "                break\n",
    "          \n",
    "        return best\n",
    "      \n",
    "    else:\n",
    "        best = MAX\n",
    " \n",
    "       \n",
    "        for i in range(0, 2):\n",
    "          \n",
    "            val = alphabeta(depth + 1, nodeIndex * 2 + i,\n",
    "                            True, values, alpha, beta)\n",
    "            best = min(best, val)\n",
    "            beta = min(beta, best)\n",
    " \n",
    "           \n",
    "            if beta <= alpha:\n",
    "                break\n",
    "          \n",
    "        return best\n",
    "      \n",
    "\n",
    "if __name__ == \"__main__\":\n",
    "  \n",
    "    values = [3,9,-2,5,7,9,-1,2,0,6,2,8,3] \n",
    "    print(\"The optimal value is :\", alphabeta(0, 0, True, values, MIN, MAX))\n",
    "     "
   ]
  },
  {
   "cell_type": "code",
   "execution_count": null,
   "id": "4728851a",
   "metadata": {},
   "outputs": [],
   "source": []
  },
  {
   "cell_type": "code",
   "execution_count": null,
   "id": "fa0227bc",
   "metadata": {},
   "outputs": [],
   "source": []
  },
  {
   "cell_type": "code",
   "execution_count": null,
   "id": "24e4fa5e",
   "metadata": {},
   "outputs": [],
   "source": []
  }
 ],
 "metadata": {
  "kernelspec": {
   "display_name": "Python 3 (ipykernel)",
   "language": "python",
   "name": "python3"
  },
  "language_info": {
   "codemirror_mode": {
    "name": "ipython",
    "version": 3
   },
   "file_extension": ".py",
   "mimetype": "text/x-python",
   "name": "python",
   "nbconvert_exporter": "python",
   "pygments_lexer": "ipython3",
   "version": "3.10.2"
  }
 },
 "nbformat": 4,
 "nbformat_minor": 5
}
